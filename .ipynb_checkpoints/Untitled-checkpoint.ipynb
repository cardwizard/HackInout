{
 "cells": [
  {
   "cell_type": "code",
   "execution_count": 120,
   "metadata": {
    "collapsed": true
   },
   "outputs": [],
   "source": [
    "from urllib.parse import urlencode\n",
    "from urllib.request import Request, urlopen\n",
    "from bs4 import BeautifulSoup\n",
    "from typing import List\n",
    "import random"
   ]
  },
  {
   "cell_type": "code",
   "execution_count": 110,
   "metadata": {
    "collapsed": true
   },
   "outputs": [],
   "source": [
    "url = \"https://narasimhadatta.info/cgi-bin/find.cgi\""
   ]
  },
  {
   "cell_type": "code",
   "execution_count": 111,
   "metadata": {
    "collapsed": true
   },
   "outputs": [],
   "source": [
    "start_from = \"Jayadeva Hospital\"\n",
    "go_to = \"Electronic City\"\n",
    "post_fields = {\"from\": start_from,\"to\": go_to, \"how\": \"Direct Routes Only\"}"
   ]
  },
  {
   "cell_type": "code",
   "execution_count": 112,
   "metadata": {
    "collapsed": true
   },
   "outputs": [],
   "source": [
    "request = Request(url, urlencode(post_fields).encode())"
   ]
  },
  {
   "cell_type": "code",
   "execution_count": 113,
   "metadata": {
    "collapsed": true
   },
   "outputs": [],
   "source": [
    "json = urlopen(request).read().decode()"
   ]
  },
  {
   "cell_type": "code",
   "execution_count": 114,
   "metadata": {
    "collapsed": false
   },
   "outputs": [],
   "source": [
    "soup = BeautifulSoup(json, 'html.parser')"
   ]
  },
  {
   "cell_type": "code",
   "execution_count": 115,
   "metadata": {
    "collapsed": false
   },
   "outputs": [],
   "source": [
    "tr = soup.find_all('tr')"
   ]
  },
  {
   "cell_type": "code",
   "execution_count": 119,
   "metadata": {
    "collapsed": true
   },
   "outputs": [],
   "source": [
    "def compute_bus_count(frequency: str)->int:\n",
    "    frequency_map = {\"rare\": 2, \"very rare\": 1, \"average\": 5, \"frequent\": 8, \"very frequent\": 10}\n",
    "    max_count = frequency_map.get(frequency.lower(), 1)\n",
    "    return random.randint(max(0, max_count-2), max_count)"
   ]
  },
  {
   "cell_type": "code",
   "execution_count": 125,
   "metadata": {
    "collapsed": false
   },
   "outputs": [],
   "source": [
    "class BusInfo:\n",
    "    def __init__(self, bus_number: int, stops: List[str], bus_frequency: int) -> None:\n",
    "        self.bus_number = bus_number\n",
    "        self.stops = stops\n",
    "        self.bus_frequency = bus_frequency"
   ]
  },
  {
   "cell_type": "code",
   "execution_count": 126,
   "metadata": {
    "collapsed": false
   },
   "outputs": [],
   "source": [
    "required_bus_info = []\n",
    "\n",
    "for rows in tr:\n",
    "    td = rows.find_all('td')\n",
    "    if td:\n",
    "        bus_number = td[0].get_text()\n",
    "\n",
    "        all_stops = td[3].get_text().split(\",\")\n",
    "        all_stops = [x.strip() for x in all_stops]\n",
    "        b = BusInfo(bus_number, all_stops, compute_bus_count(td[4].get_text().strip()))\n",
    "        required_bus_info.append(b)"
   ]
  },
  {
   "cell_type": "code",
   "execution_count": 131,
   "metadata": {
    "collapsed": false
   },
   "outputs": [
    {
     "name": "stdout",
     "output_type": "stream",
     "text": [
      "['Banashankari', 'Sangam Circle', 'Jayanagar 5th Block', 'Aurobindo Circle (J P Nagar)', 'Marenahalli (Jayanagar 5th Block)', 'Ragigudda', 'Jayanagar 9th Block East End', 'Jayadeva Hospital', 'MICO Layout', 'BTM Layout Water Tank', 'BTM Layout 16th Main/Udupi Garden', 'Kuvempunagar (BTM Layout)', 'Central Silk Board', 'Rupena Agrahara', 'Bommanahalli', 'Garebhavipalya', 'Kudlu Gate', 'Singasandra', 'Hosa Road', 'PES School of Engineering (Hosur Road)', 'Konappana Agrahara', 'Electronic City', 'Veerasandra (Electronic City)', 'Huskur Gate (Hosur Road)', 'Huskur APMC Fruit Market (Hosur Road)/Singena Agrahara Cross', 'Huskur (Hosur Road)']\n",
      "['Jayanagar 4th Block', 'Jayanagar 4th Block Church', 'Sanjay Gandhi Hospital (Old)', 'Carmel Convent', 'Jayanagar Pump House', 'Jayanagar 9th Block East End', 'Jayadeva Hospital', 'MICO Layout', 'BTM Layout Water Tank', 'BTM Layout 16th Main/Udupi Garden', 'Kuvempunagar (BTM Layout)', 'Central Silk Board', 'Rupena Agrahara', 'Bommanahalli', 'Garebhavipalya', 'Kudlu Gate', 'Singasandra', 'Hosa Road', 'PES School of Engineering (Hosur Road)', 'Konappana Agrahara', 'Electronic City']\n",
      "['Banashankari', 'Sangam Circle', 'Jayanagar 5th Block', 'Aurobindo Circle (J P Nagar)', 'Marenahalli (Jayanagar 5th Block)', 'Ragigudda', 'Jayanagar 9th Block East End', 'Jayadeva Hospital', 'MICO Layout', 'BTM Layout Water Tank', 'BTM Layout 16th Main/Udupi Garden', 'Kuvempunagar (BTM Layout)', 'Central Silk Board', 'Rupena Agrahara', 'Bommanahalli', 'Garebhavipalya', 'Kudlu Gate', 'Singasandra', 'Hosa Road', 'PES School of Engineering (Hosur Road)', 'Konappana Agrahara', 'Electronic City']\n",
      "['Srinagar', 'Srinagar Apex Bank', 'Srinivasanagar (Banashankari 1st Stage)', 'Banashankari 1st Stage/Mysore Bank Colony', 'Seetha Circle', 'Hosakerehalli Cross', 'Katriguppe Janata Bazaar', 'Katriguppe', 'Kamakhya Theater', 'Devegowda Petrol Bunk', 'Padmanabhanagar', 'Kadirenahalli', 'Kadirenahalli Cross', 'Yarabnagar', 'Banashankari', 'Sangam Circle', 'Jayanagar 5th Block', 'Aurobindo Circle (J P Nagar)', 'Marenahalli (Jayanagar 5th Block)', 'Ragigudda', 'Jayanagar 9th Block East End', 'Jayadeva Hospital', 'MICO Layout', 'BTM Layout Water Tank', 'BTM Layout 16th Main/Udupi Garden', 'Kuvempunagar (BTM Layout)', 'Central Silk Board', 'Rupena Agrahara', 'Bommanahalli', 'Garebhavipalya', 'Kudlu Gate', 'Singasandra', 'Hosa Road', 'PES School of Engineering (Hosur Road)', 'Konappana Agrahara', 'Electronic City']\n",
      "['Uttarahalli', 'Uttarahalli K R Hospital', 'Chikkalasandra Canara Bank Colony', 'Chikkalasandra Arali Mara', 'Gowdanapalya', 'Gowdanapalya Prarthana School', 'Kadirenahalli', 'Kadirenahalli Cross', 'Yarabnagar', 'Banashankari', 'Sangam Circle', 'Jayanagar 5th Block', 'Aurobindo Circle (J P Nagar)', 'Marenahalli (Jayanagar 5th Block)', 'Ragigudda', 'Jayanagar 9th Block East End', 'Jayadeva Hospital', 'MICO Layout', 'BTM Layout Water Tank', 'BTM Layout 16th Main/Udupi Garden', 'Kuvempunagar (BTM Layout)', 'Central Silk Board', 'Rupena Agrahara', 'Bommanahalli', 'Garebhavipalya', 'Kudlu Gate', 'Singasandra', 'Hosa Road', 'PES School of Engineering (Hosur Road)', 'Konappana Agrahara', 'Electronic City', 'Veerasandra (Electronic City)', 'Huskur Gate (Hosur Road)', 'Hebbagodi', 'Bommasandra Industrial Area', 'Narayana Hrudayalaya', 'Hennagara Cross', 'Chandapura Circle', 'Chandapura Railway Overbridge', 'Thirumagondanahalli', 'Neraluru', 'Gudahatti Gate', 'Attibele Guest Line Hotel/Attibele Industrial Area', 'Yadavanahalli', 'Attibele Checkpost', 'Attibele']\n",
      "['Shanthinagar Bus Station', 'Wilson Garden Police Station', 'Hombegowdanagar', 'Lakkasandra', 'Kidwai Hospital/NIMHANS', 'Bangalore Dairy/Christ College', 'Sagar Hospital/Shivabalayogi Ashram', 'Gurappanapalya', 'Jayadeva Hospital', 'Jedi Mara (J P Nagar 3rd Phase)', 'J P Nagar 3rd Phase', 'Bilekahalli', 'IIM Bangalore', 'HSBC (Bannerghatta Road)', 'Arekere Gate', 'Honeywell (Bannerghatta Road)', 'Hulimavu Gate', 'Meenakshi Temple', 'Loyola Industrial Training Centre', 'Kalena Agrahara', 'Gottigere', 'T John College', 'Basavanapura Gate', 'Koli Farm Gate (Bannerghatta Road)', 'Kalkere (Bannerghatta)', 'AMC College (Bannerghatta)', 'Bannerghatta Circle', 'RVM Humanitarian Hospital', 'Sarala Birla Academy', 'Sri Venkateshwara Dental College', 'Mantapa Cross', 'Begihalli', 'Male Nallasandra Cross', 'Koppa Gate', 'Harappanahalli', 'Jigani', 'Navya Layout', 'Hennagara', 'Kachanayakanahalli', 'Kittaganahalli', 'Hennagara Cross', 'Narayana Hrudayalaya', 'Bommasandra Industrial Area', 'Hebbagodi', 'Huskur Gate (Hosur Road)', 'Veerasandra (Electronic City)', 'Electronic City', 'Konappana Agrahara', 'PES School of Engineering (Hosur Road)', 'Hosa Road', 'Singasandra', 'Kudlu Gate', 'Garebhavipalya', 'Bommanahalli', 'Rupena Agrahara', 'Central Silk Board', 'Madiwala Police Station', 'Madiwala Ayyappa Temple', \"St John's Hospital\", 'Forum/Madiwala Checkpost', 'Bangalore Dairy/Christ College', 'Kidwai Hospital/NIMHANS', 'Lakkasandra', 'Hombegowdanagar', 'Wilson Garden Police Station', 'Shanthinagar Bus Station']\n",
      "['Bharathnagar', 'Byadarahalli', 'Anjananagar', 'Herohalli Cross', 'Sunkadakatte', 'Kottigepalya', 'Sumanahalli', 'Kamakshipalya', 'KHB Colony', 'Magadi Road Dasarahalli', 'Manuvana', 'Vijayanagar', 'Vijayanagar Maruti Mandir', 'Vijayanagar TTMC', 'Attiguppe', 'Deepanjalinagar', 'BHEL Gate (Mysore Road)', 'Nayandahalli', 'Veerabhadranagar', 'PES Institute of Technology', 'Hosakerehalli Petrol Bunk', 'Hosakerehalli Cross', 'Katriguppe Janata Bazaar', 'Katriguppe', 'Kamakhya Theater', 'Devegowda Petrol Bunk', 'Kadirenahalli Park', 'Kadirenahalli Cross', 'Yarabnagar', 'Banashankari', 'Sangam Circle', 'Jayanagar 5th Block', 'Aurobindo Circle (J P Nagar)', 'Marenahalli (Jayanagar 5th Block)', 'Ragigudda', 'Jayanagar 9th Block East End', 'Jayadeva Hospital', 'MICO Layout', 'BTM Layout Water Tank', 'BTM Layout 16th Main/Udupi Garden', 'Kuvempunagar (BTM Layout)', 'Central Silk Board', 'Rupena Agrahara', 'Bommanahalli', 'Garebhavipalya', 'Kudlu Gate', 'Singasandra', 'Hosa Road', 'PES School of Engineering (Hosur Road)', 'Konappana Agrahara', 'Electronic City']\n",
      "['Banashankari', 'Sangam Circle', 'Jayanagar 5th Block', 'Aurobindo Circle (J P Nagar)', 'Marenahalli (Jayanagar 5th Block)', 'Ragigudda', 'Jayanagar 9th Block East End', 'Jayadeva Hospital', 'MICO Layout', 'BTM Layout Water Tank', 'BTM Layout 16th Main/Udupi Garden', 'Kuvempunagar (BTM Layout)', 'Central Silk Board', 'Rupena Agrahara', 'Bommanahalli', 'Garebhavipalya', 'Kudlu Gate', 'Singasandra', 'Hosa Road', 'PES School of Engineering (Hosur Road)', 'Konappana Agrahara', 'Electronic City', 'Veerasandra (Electronic City)', 'Huskur Gate (Hosur Road)', 'Hebbagodi', 'Bommasandra Industrial Area', 'Narayana Hrudayalaya', 'Hennagara Cross', 'Chandapura Circle', 'Chandapura Railway Overbridge', 'Thirumagondanahalli', 'Neraluru', 'Gudahatti Gate', 'Attibele Guest Line Hotel/Attibele Industrial Area', 'Yadavanahalli', 'Attibele Checkpost', 'Attibele', 'Jigala Cross', 'Indlabele', 'Bidaraguppe', 'BHEL Navaratna Layout Cross', 'S Medihalli', 'Thyvakanahalli', 'Exide Factory', 'Billapura', 'Buragunte', 'Sarjapur Police Station', 'Sarjapur', 'Sompura Gate', 'Yamare', 'Chambenahalli', 'Dommasandra', 'Dommasandra Circle', 'The International School of Bangalore', 'Inventure Academy', 'Heggondahalli', 'Thippasandra Cross (Varthur)', 'Gunjur', 'Vinayakanagar (Varthur)', 'Varthur Police Station', 'Varthur', 'Varthur Government College', 'Varthur Kodi', 'Forum Value Mall (Whitefield)', 'Whitefield Post Office', 'Whitefield Club', 'Joy Ice Creams Factory', 'Ambedkarnagar (Whitefield)', 'Hope Farm', 'BPL (ITPL)', 'G R Tech Park (ITPL)', 'ITPL', 'Pattandur Agrahara Cross', 'Sadaramangala', 'Thigalarapalya (Hoodi)', 'Hoodi', 'Mahadevapura Industrial Area', 'Garudacharpalya', 'Singayyanapalya', 'Mahadevapura', 'B Narayanapura', 'K R Puram Railway Station', 'Tin Factory', 'Kasturinagar Cross', 'B Channasandra', 'Ramamurthynagar Underpass', 'Vijaya Bank Colony (Banasawadi)', 'Horamavu Petrol Bunk', 'Babusabpalya', 'Kalyananagar (HRBR Layout 2nd Block)', 'Hennur Junction/HRBR Layout 3rd Block', 'HBR Layout 3rd Block', 'HBR Layout 4th Block', 'HBR Layout 5th Block', 'Nagavara Junction (Outer Ring Road)', 'Manyata Tech Park', 'Lumbini Garden/Veerannanapalya', 'Hebbal', 'Bhadrappa Layout', 'Devinagar', 'Lottegollahalli', 'Gokula Extension', 'Muthyalanagar', 'Bandappa Garden', 'Mysore Breweries Limited', 'Goraguntepalya', 'Indian Bureau of Mines', 'Netaji Subhash Chandra Bose Circle (Nandini Layout)', 'Kanteerava Studio', 'Nandini Layout Bridge (Outer Ring Road)', 'Laggere Bridge (Outer Ring Road)', 'Freedom Fighters Colony', 'Kempegowda Layout', 'Chowdeshwarinagar', 'Beggars Colony', 'Sumanahalli', 'Kottigepalya', 'Vokkaligara Sangha (Magadi Road)', 'Nagarabhavi BDA Complex', 'Nagarabhavi Alada Mara (Outer Ring Road)', 'Papareddypalya', 'Dr Ambedkar Institute of Technology', 'Indian Institute Of Plantation Management', 'Mallathahalli', 'Bhagavan Buddha College', 'Bangalore University Administrative Block', 'Mariyappanapalya (Bangalore University)', 'Jnanajyothinagar', 'Nagadevanahalli', 'Oddarapalya', 'Kengeri KHB Quarters/Shirke Apartment', 'Kengeri Satellite Town', 'Kengeri Syndicate Bank', 'Kengeri Railway Station', 'Kengeri Post Office', 'Kengeri Ganesha Temple', 'NICE Road Mysore Road Junction', 'Kengeri Police Station', 'Kengeri', 'Mylasandra Cross (Kengeri)', 'Dubasipalya Cross', 'R V College of Engineering', 'Indian Statistical Institute', 'Bangalore University Gate', 'Rajarajeshwarinagar Gate', 'Vrishabhavathi Valley BWSSB Quarters', 'Nayandahalli', 'Veerabhadranagar', 'PES Institute of Technology', 'Hosakerehalli Petrol Bunk', 'Hosakerehalli Cross', 'Katriguppe Janata Bazaar', 'Katriguppe', 'Kamakhya Theater', 'Devegowda Petrol Bunk', 'Mini Zoo (KIMS Hospital)', 'Indira Nursing Home', 'Banashankari 2nd Stage Post Office', 'Monotype Corporation', 'Kaverinagar (Banashankari)', 'Yarabnagar', 'Banashankari']\n",
      "['Telecom Colony', 'Avalahalli BDA Park', 'Girinagar Cross', 'Muneshwara Block', 'Nagendra Block', 'Banashankari 1st Stage/Mysore Bank Colony', 'Seetha Circle', 'Hosakerehalli Cross', 'Katriguppe Janata Bazaar', 'Katriguppe', 'Kamakhya Theater', 'Devegowda Petrol Bunk', 'Mini Zoo (KIMS Hospital)', 'Indira Nursing Home', 'Banashankari 2nd Stage Post Office', 'Monotype Corporation', 'Kaverinagar (Banashankari)', 'Yarabnagar', 'Banashankari', 'Sangam Circle', 'Jayanagar 5th Block', 'Aurobindo Circle (J P Nagar)', 'Marenahalli (Jayanagar 5th Block)', 'Ragigudda', 'Jayanagar 9th Block East End', 'Jayadeva Hospital', 'MICO Layout', 'BTM Layout Water Tank', 'BTM Layout 16th Main/Udupi Garden', 'Kuvempunagar (BTM Layout)', 'Central Silk Board', 'Rupena Agrahara', 'Bommanahalli', 'Garebhavipalya', 'Kudlu Gate', 'Singasandra', 'Hosa Road', 'PES School of Engineering (Hosur Road)', 'Konappana Agrahara', 'Electronic City', 'Veerasandra (Electronic City)', 'Huskur Gate (Hosur Road)', 'Hebbagodi', 'Bommasandra Industrial Area', 'Narayana Hrudayalaya', 'Hennagara Cross', 'Chandapura Circle']\n",
      "['Banashankari', 'Sangam Circle', 'Jayanagar 5th Block', 'Aurobindo Circle (J P Nagar)', 'Marenahalli (Jayanagar 5th Block)', 'Ragigudda', 'Jayanagar 9th Block East End', 'Jayadeva Hospital', 'MICO Layout', 'BTM Layout Water Tank', 'BTM Layout 16th Main/Udupi Garden', 'Kuvempunagar (BTM Layout)', 'Central Silk Board', 'Rupena Agrahara', 'Bommanahalli', 'Garebhavipalya', 'Kudlu Gate', 'Singasandra', 'Hosa Road', 'PES School of Engineering (Hosur Road)', 'Konappana Agrahara', 'Electronic City', 'Veerasandra (Electronic City)', 'Huskur Gate (Hosur Road)', 'Hebbagodi', 'Bommasandra Industrial Area', 'Narayana Hrudayalaya', 'Hennagara Cross', 'Chandapura Circle']\n",
      "['Banashankari', 'Sangam Circle', 'Jayanagar 5th Block', 'Aurobindo Circle (J P Nagar)', 'Marenahalli (Jayanagar 5th Block)', 'Ragigudda', 'Jayanagar 9th Block East End', 'Jayadeva Hospital', 'MICO Layout', 'BTM Layout Water Tank', 'BTM Layout 16th Main/Udupi Garden', 'Kuvempunagar (BTM Layout)', 'Central Silk Board', 'Rupena Agrahara', 'Bommanahalli', 'Garebhavipalya', 'Kudlu Gate', 'Singasandra', 'Hosa Road', 'PES School of Engineering (Hosur Road)', 'Konappana Agrahara', 'Electronic City', 'Veerasandra (Electronic City)', 'Huskur Gate (Hosur Road)', 'Hebbagodi', 'Bommasandra Industrial Area', 'Narayana Hrudayalaya', 'Hennagara Cross', 'Chandapura Circle', 'Suryanagar Depot', 'Iggalur', 'Ramakrishnapura Gate/Suryanagar Phase 2 Cross', 'Marasur Cross (Hosur Road)', 'Begadadenahalli', 'Avadadenahalli', 'Karpuru Gate', 'Alliance University/Chikka Hagade Cross', 'Anekal Railway Station Cross/Kavala Hosahalli', 'Anekal Government Junior College', 'Anekal Devarakondappa Circle', 'Anekal']\n",
      "['Banashankari', 'Sangam Circle', 'Jayanagar 5th Block', 'Aurobindo Circle (J P Nagar)', 'Marenahalli (Jayanagar 5th Block)', 'Ragigudda', 'Jayanagar 9th Block East End', 'Jayadeva Hospital', 'MICO Layout', 'BTM Layout Water Tank', 'BTM Layout 16th Main/Udupi Garden', 'Kuvempunagar (BTM Layout)', 'Central Silk Board', 'Rupena Agrahara', 'Bommanahalli', 'Garebhavipalya (BETL Flyover)', 'Kudlu Gate (BETL Flyover)', 'Singasandra (BETL Flyover)', 'Hosa Road (BETL Flyover)', 'PES School of Engineering (Hosur Road) (BETL Flyover)', 'Konappana Agrahara (BETL Flyover)', 'Electronic City', 'Electronic City Wipro Gate']\n",
      "['Minaznagar', 'JHBCS Layout Cross', 'Kadirenahalli Cross', 'Yarabnagar', 'Banashankari', 'Sangam Circle', 'Jayanagar 5th Block', 'Aurobindo Circle (J P Nagar)', 'Marenahalli (Jayanagar 5th Block)', 'Ragigudda', 'Jayanagar 9th Block East End', 'Jayadeva Hospital', 'MICO Layout', 'BTM Layout Water Tank', 'BTM Layout 16th Main/Udupi Garden', 'Kuvempunagar (BTM Layout)', 'Central Silk Board', 'Rupena Agrahara', 'Bommanahalli', 'Garebhavipalya', 'Kudlu Gate', 'Singasandra', 'Hosa Road', 'PES School of Engineering (Hosur Road)', 'Konappana Agrahara', 'Electronic City', 'Shikaripalya']\n",
      "['Hebbal', 'Bhadrappa Layout', 'Devinagar', 'Lottegollahalli', 'Kuvempu Circle', 'Muthyalanagar', 'Bandappa Garden', 'Mysore Breweries Limited', 'Goraguntepalya', 'Indian Bureau of Mines', 'Netaji Subhash Chandra Bose Circle (Nandini Layout)', 'Kanteerava Studio', 'Nandini Layout Bridge (Outer Ring Road)', 'Laggere Bridge (Outer Ring Road)', 'Freedom Fighters Colony', 'Kempegowda Layout', 'Chowdeshwarinagar', 'Beggars Colony', 'Sumanahalli', 'Kottigepalya', 'Vokkaligara Sangha (Magadi Road)', 'Nagarabhavi BDA Complex', 'Nagarabhavi Alada Mara (Outer Ring Road)', 'Papareddypalya', 'Dr Ambedkar Institute of Technology', 'Indian Institute Of Plantation Management', 'Mallathahalli', 'Bhagavan Buddha College', 'Bangalore University Administrative Block', 'Mariyappanapalya (Bangalore University)', 'Jnanajyothinagar', 'Nagadevanahalli', 'Oddarapalya', 'Kengeri KHB Quarters/Shirke Apartment', 'Kengeri Satellite Town', 'Kengeri Syndicate Bank', 'Kengeri Railway Station', 'Kengeri Post Office', 'Kengeri Ganesha Temple', 'NICE Road Mysore Road Junction', 'Kengeri Police Station', 'Kengeri', 'Mylasandra Cross (Kengeri)', 'Dubasipalya Cross', 'R V College of Engineering', 'Indian Statistical Institute', 'Bangalore University Gate', 'Rajarajeshwarinagar Gate', 'Vrishabhavathi Valley BWSSB Quarters', 'Nayandahalli', 'Veerabhadranagar', 'PES Institute of Technology', 'Hosakerehalli Petrol Bunk', 'Hosakerehalli Cross', 'Katriguppe Janata Bazaar', 'Katriguppe', 'Kamakhya Theater', 'Devegowda Petrol Bunk', 'Mini Zoo (KIMS Hospital)', 'Indira Nursing Home', 'Banashankari 2nd Stage Post Office', 'Monotype Corporation', 'Kaverinagar (Banashankari)', 'Yarabnagar', 'Banashankari', 'Sangam Circle', 'Jayanagar 5th Block', 'Aurobindo Circle (J P Nagar)', 'Marenahalli (Jayanagar 5th Block)', 'Ragigudda', 'Jayanagar 9th Block East End', 'Jayadeva Hospital', 'MICO Layout', 'BTM Layout Water Tank', 'BTM Layout 16th Main/Udupi Garden', 'Kuvempunagar (BTM Layout)', 'Central Silk Board', 'Rupena Agrahara', 'Bommanahalli', 'Garebhavipalya', 'Kudlu Gate', 'Singasandra', 'Hosa Road', 'PES School of Engineering (Hosur Road)', 'Konappana Agrahara', 'Electronic City', 'Veerasandra (Electronic City)', 'Huskur Gate (Hosur Road)', 'Hebbagodi', 'Bommasandra Industrial Area', 'Narayana Hrudayalaya', 'Hennagara Cross', 'Chandapura Circle', 'Chandapura Railway Overbridge', 'Thirumagondanahalli', 'Neraluru', 'Gudahatti Gate', 'Attibele Guest Line Hotel/Attibele Industrial Area', 'Yadavanahalli', 'Attibele Checkpost', 'Attibele', 'Jigala Cross', 'Indlabele', 'Bidaraguppe', 'BHEL Navaratna Layout Cross', 'S Medihalli', 'Thyvakanahalli', 'Exide Factory', 'Billapura', 'Buragunte', 'Sarjapur Police Station', 'Sarjapur', 'Sompura Gate', 'Yamare', 'Chambenahalli', 'Dommasandra', 'Dommasandra Circle', 'The International School of Bangalore', 'Inventure Academy', 'Heggondahalli', 'Thippasandra Cross (Varthur)', 'Gunjur', 'Vinayakanagar (Varthur)', 'Varthur Police Station', 'Varthur', 'Varthur Government College', 'Varthur Kodi', 'Forum Value Mall (Whitefield)', 'Whitefield Post Office', 'Whitefield Club', 'Joy Ice Creams Factory', 'Ambedkarnagar (Whitefield)', 'Hope Farm', 'BPL (ITPL)', 'G R Tech Park (ITPL)', 'ITPL', 'Pattandur Agrahara Cross', 'Sadaramangala', 'Thigalarapalya (Hoodi)', 'Hoodi', 'Mahadevapura Industrial Area', 'Garudacharpalya', 'Singayyanapalya', 'Mahadevapura', 'B Narayanapura', 'K R Puram Railway Station', 'Tin Factory', 'Kasturinagar Cross', 'B Channasandra', 'Ramamurthynagar Underpass', 'Vijaya Bank Colony (Banasawadi)', 'Horamavu Petrol Bunk', 'Babusabpalya', 'Kalyananagar (HRBR Layout 2nd Block)', 'Hennur Junction/HRBR Layout 3rd Block', 'HBR Layout 3rd Block', 'HBR Layout 4th Block', 'HBR Layout 5th Block', 'Nagavara Junction (Outer Ring Road)', 'Manyata Tech Park', 'Lumbini Garden/Veerannanapalya', 'Hebbal']\n",
      "['Banashankari', 'Sangam Circle', 'Jayanagar 5th Block', 'Aurobindo Circle (J P Nagar)', 'Marenahalli (Jayanagar 5th Block)', 'Ragigudda', 'Jayanagar 9th Block East End', 'Jayadeva Hospital', 'MICO Layout', 'BTM Layout Water Tank', 'BTM Layout 16th Main/Udupi Garden', 'Kuvempunagar (BTM Layout)', 'Central Silk Board', 'Rupena Agrahara', 'Bommanahalli', 'Garebhavipalya', 'Kudlu Gate', 'Singasandra', 'Hosa Road', 'PES School of Engineering (Hosur Road)', 'Konappana Agrahara', 'Electronic City', 'Veerasandra (Electronic City)', 'Huskur Gate (Hosur Road)', 'Hebbagodi', 'Bommasandra Industrial Area', 'Narayana Hrudayalaya', 'Hennagara Cross', 'Chandapura Circle', 'Chandapura Railway Overbridge', 'Thirumagondanahalli', 'Neraluru', 'Gudahatti Gate', 'Attibele Guest Line Hotel/Attibele Industrial Area', 'Yadavanahalli', 'Attibele Checkpost', 'Attibele']\n",
      "['Arehalli AGS Layout', 'Ittumadu', 'Katriguppe', 'Kamakhya Theater', 'Devegowda Petrol Bunk', 'Mini Zoo (KIMS Hospital)', 'Indira Nursing Home', 'Banashankari 2nd Stage Post Office', 'Monotype Corporation', 'Kaverinagar (Banashankari)', 'Yarabnagar', 'Banashankari', 'Sangam Circle', 'Jayanagar 5th Block', 'Aurobindo Circle (J P Nagar)', 'Marenahalli (Jayanagar 5th Block)', 'Ragigudda', 'Jayanagar 9th Block East End', 'Jayadeva Hospital', 'MICO Layout', 'BTM Layout Water Tank', 'BTM Layout 16th Main/Udupi Garden', 'Kuvempunagar (BTM Layout)', 'Central Silk Board', 'Rupena Agrahara', 'Bommanahalli', 'Garebhavipalya', 'Kudlu Gate', 'Singasandra', 'Hosa Road', 'PES School of Engineering (Hosur Road)', 'Konappana Agrahara', 'Electronic City']\n",
      "['Banashankari', 'Sangam Circle', 'Jayanagar 5th Block', 'Aurobindo Circle (J P Nagar)', 'Marenahalli (Jayanagar 5th Block)', 'Ragigudda', 'Jayanagar 9th Block East End', 'Jayadeva Hospital', 'MICO Layout', 'BTM Layout Water Tank', 'BTM Layout 16th Main/Udupi Garden', 'Kuvempunagar (BTM Layout)', 'Central Silk Board', 'Rupena Agrahara', 'Bommanahalli', 'Garebhavipalya', 'Kudlu Gate', 'Singasandra', 'Hosa Road', 'PES School of Engineering (Hosur Road)', 'Konappana Agrahara', 'Electronic City', 'Veerasandra (Electronic City)', 'Huskur Gate (Hosur Road)', 'Hebbagodi', 'Bommasandra Industrial Area', 'Biocon Syngene', 'Bommasandra Jigani SEZ', 'Jigani APC Circle', 'Ittina Nagar', 'Jigani']\n",
      "['Kumaraswamy Layout 2nd Stage', 'Kumaraswamy Layout Water Tank', 'Dayananda Sagar College', 'Kadirenahalli Cross', 'Yarabnagar', 'Banashankari', 'Sangam Circle', 'Jayanagar 5th Block', 'Aurobindo Circle (J P Nagar)', 'Marenahalli (Jayanagar 5th Block)', 'Ragigudda', 'Jayanagar 9th Block East End', 'Jayadeva Hospital', 'MICO Layout', 'BTM Layout Water Tank', 'BTM Layout 16th Main/Udupi Garden', 'Kuvempunagar (BTM Layout)', 'Central Silk Board', 'Rupena Agrahara', 'Bommanahalli', 'Garebhavipalya', 'Kudlu Gate', 'Singasandra', 'Hosa Road', 'PES School of Engineering (Hosur Road)', 'Konappana Agrahara', 'Electronic City', 'Veerasandra (Electronic City)', 'Huskur Gate (Hosur Road)', 'Hebbagodi', 'Bommasandra Industrial Area', 'Narayana Hrudayalaya', 'Hennagara Cross', 'Chandapura Circle']\n",
      "['Vijayanagar', 'Vijayanagar Maruti Mandir', 'Vijayanagar TTMC', 'Attiguppe', 'Deepanjalinagar', 'BHEL Gate (Mysore Road)', 'Nayandahalli', 'Veerabhadranagar', 'PES Institute of Technology', 'Hosakerehalli Petrol Bunk', 'Hosakerehalli Cross', 'Katriguppe Janata Bazaar', 'Katriguppe', 'Kamakhya Theater', 'Devegowda Petrol Bunk', 'Mini Zoo (KIMS Hospital)', 'Indira Nursing Home', 'Banashankari 2nd Stage Post Office', 'Monotype Corporation', 'Kaverinagar (Banashankari)', 'Yarabnagar', 'Banashankari', 'Sangam Circle', 'Jayanagar 5th Block', 'Aurobindo Circle (J P Nagar)', 'Marenahalli (Jayanagar 5th Block)', 'Ragigudda', 'Jayanagar 9th Block East End', 'Jayadeva Hospital', 'MICO Layout', 'BTM Layout Water Tank', 'BTM Layout 16th Main/Udupi Garden', 'Kuvempunagar (BTM Layout)', 'Central Silk Board', 'Rupena Agrahara', 'Bommanahalli', 'Garebhavipalya', 'Kudlu Gate', 'Singasandra', 'Hosa Road', 'PES School of Engineering (Hosur Road)', 'Konappana Agrahara', 'Electronic City']\n",
      "['Vijayanagar', 'Prashanthnagar', 'Saraswathinagar', 'Mudalapalya Priyadarshini Layout', 'Mudalapalya Circle', 'Kalyananagar (Mudalapalya)', 'Nagarabhavi Canara Bank Colony', 'Nagarabhavi Maruthinagar', 'Nagarabhavi Circle', 'Nagarabhavi Inner Ring Road', 'Nayandahalli Railway Gate', 'Nayandahalli', 'Veerabhadranagar', 'PES Institute of Technology', 'Hosakerehalli Petrol Bunk', 'Hosakerehalli Cross', 'Katriguppe Janata Bazaar', 'Katriguppe', 'Kamakhya Theater', 'Devegowda Petrol Bunk', 'Mini Zoo (KIMS Hospital)', 'Indira Nursing Home', 'Banashankari 2nd Stage Post Office', 'Monotype Corporation', 'Kaverinagar (Banashankari)', 'Yarabnagar', 'Banashankari', 'Sangam Circle', 'Jayanagar 5th Block', 'Aurobindo Circle (J P Nagar)', 'Marenahalli (Jayanagar 5th Block)', 'Ragigudda', 'Jayanagar 9th Block East End', 'Jayadeva Hospital', 'MICO Layout', 'BTM Layout Water Tank', 'BTM Layout 16th Main/Udupi Garden', 'Kuvempunagar (BTM Layout)', 'Central Silk Board', 'Rupena Agrahara', 'Bommanahalli', 'Garebhavipalya (BETL Flyover)', 'Kudlu Gate (BETL Flyover)', 'Singasandra (BETL Flyover)', 'Hosa Road (BETL Flyover)', 'PES School of Engineering (Hosur Road) (BETL Flyover)', 'Konappana Agrahara (BETL Flyover)', 'Electronic City']\n",
      "['Banashankari', 'Sangam Circle', 'Jayanagar 5th Block', 'Aurobindo Circle (J P Nagar)', 'Marenahalli (Jayanagar 5th Block)', 'Ragigudda', 'Jayanagar 9th Block East End', 'Jayadeva Hospital', 'MICO Layout', 'BTM Layout Water Tank', 'BTM Layout 16th Main/Udupi Garden', 'Kuvempunagar (BTM Layout)', 'Central Silk Board', 'Rupena Agrahara', 'Bommanahalli', 'Garebhavipalya', 'Kudlu Gate', 'Singasandra', 'Hosa Road', 'PES School of Engineering (Hosur Road)', 'Konappana Agrahara', 'Electronic City']\n",
      "['Banashankari', 'Sangam Circle', 'Jayanagar 5th Block', 'Aurobindo Circle (J P Nagar)', 'Marenahalli (Jayanagar 5th Block)', 'Ragigudda', 'Jayanagar 9th Block East End', 'Jayadeva Hospital', 'MICO Layout', 'BTM Layout Water Tank', 'BTM Layout 16th Main/Udupi Garden', 'Kuvempunagar (BTM Layout)', 'Central Silk Board', 'Rupena Agrahara', 'Bommanahalli', 'Garebhavipalya (BETL Flyover)', 'Kudlu Gate (BETL Flyover)', 'Singasandra (BETL Flyover)', 'Hosa Road (BETL Flyover)', 'PES School of Engineering (Hosur Road) (BETL Flyover)', 'Konappana Agrahara (BETL Flyover)', 'Electronic City', 'Electronic City Phase-2']\n",
      "['MEI Layout (Bagalagunte)', 'Bagalagunte', 'Widia School', 'Tumkur Road 8th Mile', 'Dasarahalli (Tumkur Road)', 'Jalahalli Cross', 'TVS Cross (Peenya)', 'NTTF', 'Rajagopalnagar Rajani Farm', 'Peenya 2nd Stage', 'Peenya 3rd Stage', 'MEI Colony (Peenya)', 'Peenya 4th Stage', 'Hegganahalli (Peenya)', 'Hegganahalli Cross (Peenya)', 'RES Polytechnic', 'Sallapuradamma Temple (Sunkadakatte)', 'Sunkadakatte', 'Kottigepalya', 'Sumanahalli', 'Kamakshipalya', 'KHB Colony', 'Magadi Road Dasarahalli', 'Manuvana', 'Vijayanagar', 'Vijayanagar Maruti Mandir', 'Vijayanagar TTMC', 'Attiguppe', 'Deepanjalinagar', 'BHEL Gate (Mysore Road)', 'Nayandahalli', 'Veerabhadranagar', 'PES Institute of Technology', 'Hosakerehalli Petrol Bunk', 'Hosakerehalli Cross', 'Katriguppe Janata Bazaar', 'Katriguppe', 'Kamakhya Theater', 'Devegowda Petrol Bunk', 'Kadirenahalli Park', 'Kadirenahalli Cross', 'Yarabnagar', 'Banashankari', 'Sangam Circle', 'Jayanagar 5th Block', 'Aurobindo Circle (J P Nagar)', 'Marenahalli (Jayanagar 5th Block)', 'Ragigudda', 'Jayanagar 9th Block East End', 'Jayadeva Hospital', 'MICO Layout', 'BTM Layout Water Tank', 'BTM Layout 16th Main/Udupi Garden', 'Kuvempunagar (BTM Layout)', 'Central Silk Board', 'Rupena Agrahara', 'Bommanahalli', 'Garebhavipalya', 'Kudlu Gate', 'Singasandra', 'Hosa Road', 'PES School of Engineering (Hosur Road)', 'Konappana Agrahara', 'Electronic City', 'Veerasandra (Electronic City)', 'Huskur Gate (Hosur Road)', 'Hebbagodi', 'Bommasandra Industrial Area', 'Narayana Hrudayalaya', 'Hennagara Cross', 'Chandapura Circle']\n",
      "['Kengeri', 'Uttarahalli Cross (Kengeri)', 'Sunkalpalya', 'Sawan Darshan Ashram', 'BGS Health City', 'Abhiman Studio', 'JSS College of Engineering/Omkar Hill', 'Srinivasapura (Uttarahalli Road)', 'Channasandra (Uttarahalli Road)', 'Patalamma Temple (Banashankari 5th Stage)', 'Poornaprajna Layout Water Tank', 'Arehalli Gate (Uttarahalli)', 'Uttarahalli', 'Subramanyapura Post Office (Uttarahalli)', 'Subramanyapura KEB Quarters', 'Yadalam Nagar', 'Vasanthapura', 'Vasanthapura Pipeline', 'Sharadanagar (Vasanthapura)', 'Vasantha Vallabha Nagar', 'Konanakunte Cross', 'Metro Mall (Kanakapura Road)', 'Yalachenahalli', 'Jaraganahalli', 'Ilyasnagar', 'Sarakki Gate', 'Banashankari', 'Sangam Circle', 'Jayanagar 5th Block', 'Aurobindo Circle (J P Nagar)', 'Marenahalli (Jayanagar 5th Block)', 'Ragigudda', 'Jayanagar 9th Block East End', 'Jayadeva Hospital', 'MICO Layout', 'BTM Layout Water Tank', 'BTM Layout 16th Main/Udupi Garden', 'Kuvempunagar (BTM Layout)', 'Central Silk Board', 'Rupena Agrahara', 'Bommanahalli', 'Garebhavipalya', 'Kudlu Gate', 'Singasandra', 'Hosa Road', 'PES School of Engineering (Hosur Road)', 'Konappana Agrahara', 'Electronic City']\n",
      "['Kempegowda Bus Station/Majestic', 'Kaveri Bhavan/Mysore Bank', 'Corporation', 'Town Hall', 'J C Road', 'Urvashi Talkies', 'Lalbagh Main Gate', 'Minerva Circle', 'Lalbagh West Gate', 'Teachers College', 'Ashoka Pillar', 'Jayanagar 1st Block', 'Madhavan Park', 'Jayanagar 3rd Block', 'Jayanagar 4th Block', 'Jayanagar 4th Block Church', 'Sanjay Gandhi Hospital (Old)', 'Carmel Convent', 'Jayanagar Pump House', 'Jayanagar 9th Block East End', 'Jayadeva Hospital', 'MICO Layout', 'BTM Layout Water Tank', 'BTM Layout 16th Main/Udupi Garden', 'Kuvempunagar (BTM Layout)', 'Central Silk Board', 'Rupena Agrahara', 'Bommanahalli', 'Garebhavipalya', 'Kudlu Gate', 'Singasandra', 'Hosa Road', 'PES School of Engineering (Hosur Road)', 'Konappana Agrahara', 'Electronic City', 'Electronic City Infosys Gate', 'Electronic City BHEL/Siemens', 'Electronic City Wipro Gate']\n",
      "['Srinagar', 'Srinagar Apex Bank', 'Srinivasanagar (Banashankari 1st Stage)', 'Banashankari 1st Stage/Mysore Bank Colony', 'Seetha Circle', 'Hosakerehalli Cross', 'Katriguppe Janata Bazaar', 'Katriguppe', 'Kamakhya Theater', 'Devegowda Petrol Bunk', 'Mini Zoo (KIMS Hospital)', 'Indira Nursing Home', 'Banashankari 2nd Stage Post Office', 'Monotype Corporation', 'Kaverinagar (Banashankari)', 'Yarabnagar', 'Banashankari', 'Sangam Circle', 'Jayanagar 5th Block', 'Aurobindo Circle (J P Nagar)', 'Marenahalli (Jayanagar 5th Block)', 'Ragigudda', 'Jayanagar 9th Block East End', 'Jayadeva Hospital', 'MICO Layout', 'BTM Layout Water Tank', 'BTM Layout 16th Main/Udupi Garden', 'Kuvempunagar (BTM Layout)', 'Central Silk Board', 'Rupena Agrahara', 'Bommanahalli', 'Garebhavipalya', 'Kudlu Gate', 'Singasandra', 'Hosa Road', 'PES School of Engineering (Hosur Road)', 'Konappana Agrahara', 'Electronic City']\n",
      "['Rajarajeshwarinagar Gate', 'Vrishabhavathi Valley BWSSB Quarters', 'Nayandahalli', 'Veerabhadranagar', 'PES Institute of Technology', 'Hosakerehalli Petrol Bunk', 'Hosakerehalli Cross', 'Katriguppe Janata Bazaar', 'Katriguppe', 'Kamakhya Theater', 'Devegowda Petrol Bunk', 'Mini Zoo (KIMS Hospital)', 'Indira Nursing Home', 'Banashankari 2nd Stage Post Office', 'Monotype Corporation', 'Kaverinagar (Banashankari)', 'Yarabnagar', 'Banashankari', 'Sangam Circle', 'Jayanagar 5th Block', 'Aurobindo Circle (J P Nagar)', 'Marenahalli (Jayanagar 5th Block)', 'Ragigudda', 'Jayanagar 9th Block East End', 'Jayadeva Hospital', 'MICO Layout', 'BTM Layout Water Tank', 'BTM Layout 16th Main/Udupi Garden', 'Kuvempunagar (BTM Layout)', 'Central Silk Board', 'Rupena Agrahara', 'Bommanahalli', 'Garebhavipalya', 'Kudlu Gate', 'Singasandra', 'Hosa Road', 'PES School of Engineering (Hosur Road)', 'Konappana Agrahara', 'Electronic City']\n",
      "['Kengeri KHB Quarters/Shirke Apartment', 'Kengeri Satellite Town Church', 'Kengeri Satellite Town', 'Kengeri Syndicate Bank', 'Kengeri Railway Station', 'Kengeri Post Office', 'Kengeri Ganesha Temple', 'NICE Road Mysore Road Junction', 'Kengeri Police Station', 'Kengeri', 'Uttarahalli Cross (Kengeri)', 'Sunkalpalya', 'Sawan Darshan Ashram', 'BGS Health City', 'Abhiman Studio', 'JSS College of Engineering/Omkar Hill', 'Srinivasapura (Uttarahalli Road)', 'Indo American Hybrid Seeds', 'RNS Institute of Technology', 'Channasandra (Uttarahalli Road)', 'Patalamma Temple (Banashankari 5th Stage)', 'Poornaprajna Layout Water Tank', 'Arehalli Gate (Uttarahalli)', 'Uttarahalli', 'Uttarahalli K R Hospital', 'Chikkalasandra Canara Bank Colony', 'Chikkalasandra Arali Mara', 'Gowdanapalya', 'Gowdanapalya Prarthana School', 'Kadirenahalli', 'Kadirenahalli Cross', 'Yarabnagar', 'Banashankari', 'Sangam Circle', 'Jayanagar 5th Block', 'Aurobindo Circle (J P Nagar)', 'Marenahalli (Jayanagar 5th Block)', 'Ragigudda', 'Jayanagar 9th Block East End', 'Jayadeva Hospital', 'MICO Layout', 'BTM Layout Water Tank', 'BTM Layout 16th Main/Udupi Garden', 'Kuvempunagar (BTM Layout)', 'Central Silk Board', 'Rupena Agrahara', 'Bommanahalli', 'Garebhavipalya', 'Kudlu Gate', 'Singasandra', 'Hosa Road', 'PES School of Engineering (Hosur Road)', 'Konappana Agrahara', 'Electronic City', 'Electronic City Infosys Gate', 'Electronic City BHEL/Siemens', 'Electronic City Wipro Gate']\n",
      "['MCTC Mysore Road Bus Station', 'Bapujinagar', 'Deepanjalinagar', 'BHEL Gate (Mysore Road)', 'Nayandahalli', 'Veerabhadranagar', 'PES Institute of Technology', 'Hosakerehalli Petrol Bunk', 'Hosakerehalli Cross', 'Katriguppe Janata Bazaar', 'Katriguppe', 'Kamakhya Theater', 'Devegowda Petrol Bunk', 'Mini Zoo (KIMS Hospital)', 'Indira Nursing Home', 'Banashankari 2nd Stage Post Office', 'Monotype Corporation', 'Kaverinagar (Banashankari)', 'Yarabnagar', 'Banashankari', 'Sangam Circle', 'Jayanagar 5th Block', 'Aurobindo Circle (J P Nagar)', 'Marenahalli (Jayanagar 5th Block)', 'Ragigudda', 'Jayanagar 9th Block East End', 'Jayadeva Hospital', 'MICO Layout', 'BTM Layout Water Tank', 'BTM Layout 16th Main/Udupi Garden', 'Kuvempunagar (BTM Layout)', 'Central Silk Board', 'Rupena Agrahara', 'Bommanahalli', 'Garebhavipalya', 'Kudlu Gate', 'Singasandra', 'Hosa Road', 'PES School of Engineering (Hosur Road)', 'Konappana Agrahara', 'Electronic City']\n",
      "['Jayanagar 4th Block', 'Jayanagar 4th Block Church', 'Sanjay Gandhi Hospital (Old)', 'Carmel Convent', 'Jayanagar Pump House', 'Jayanagar 9th Block East End', 'Jayadeva Hospital', 'MICO Layout', 'BTM Layout Water Tank', 'BTM Layout 16th Main/Udupi Garden', 'Kuvempunagar (BTM Layout)', 'Central Silk Board', 'Rupena Agrahara', 'Bommanahalli', 'Garebhavipalya', 'Kudlu Gate', 'Singasandra', 'Hosa Road', 'PES School of Engineering (Hosur Road)', 'Konappana Agrahara', 'Electronic City', 'Veerasandra (Electronic City)', 'Huskur Gate (Hosur Road)', 'Hebbagodi', 'Bommasandra Industrial Area', 'Narayana Hrudayalaya', 'Hennagara Cross', 'Chandapura Circle', 'Chandapura Railway Overbridge', 'Thirumagondanahalli', 'Neraluru', 'Gudahatti Gate', 'Attibele Guest Line Hotel/Attibele Industrial Area', 'Yadavanahalli', 'Attibele Checkpost', 'Attibele']\n",
      "['Banashankari', 'Sangam Circle', 'Jayanagar 5th Block', 'Aurobindo Circle (J P Nagar)', 'Marenahalli (Jayanagar 5th Block)', 'Ragigudda', 'Jayanagar 9th Block East End', 'Jayadeva Hospital', 'MICO Layout', 'BTM Layout Water Tank', 'BTM Layout 16th Main/Udupi Garden', 'Kuvempunagar (BTM Layout)', 'Central Silk Board', 'Rupena Agrahara', 'Bommanahalli', 'Garebhavipalya (BETL Flyover)', 'Kudlu Gate (BETL Flyover)', 'Singasandra (BETL Flyover)', 'Hosa Road (BETL Flyover)', 'PES School of Engineering (Hosur Road) (BETL Flyover)', 'Konappana Agrahara (BETL Flyover)', 'Electronic City', 'Electronic City Wipro Gate']\n",
      "['Banashankari', 'Sangam Circle', 'Jayanagar 5th Block', 'Aurobindo Circle (J P Nagar)', 'Marenahalli (Jayanagar 5th Block)', 'Ragigudda', 'Jayanagar 9th Block East End', 'Jayadeva Hospital', 'MICO Layout', 'BTM Layout Water Tank', 'BTM Layout 16th Main/Udupi Garden', 'Kuvempunagar (BTM Layout)', 'Central Silk Board', 'Rupena Agrahara', 'Bommanahalli', 'Garebhavipalya', 'Kudlu Gate', 'Singasandra', 'Hosa Road', 'PES School of Engineering (Hosur Road)', 'Konappana Agrahara', 'Electronic City', 'Electronic City Infosys Gate', 'Electronic City BHEL/Siemens', 'Electronic City Wipro Gate']\n",
      "['Vijayanagar', 'Vijayanagar Maruti Mandir', 'Vijayanagar TTMC', 'Attiguppe', 'Deepanjalinagar', 'BHEL Gate (Mysore Road)', 'Nayandahalli', 'Veerabhadranagar', 'PES Institute of Technology', 'Hosakerehalli Petrol Bunk', 'Hosakerehalli Cross', 'Katriguppe Janata Bazaar', 'Katriguppe', 'Kamakhya Theater', 'Devegowda Petrol Bunk', 'Mini Zoo (KIMS Hospital)', 'Indira Nursing Home', 'Banashankari 2nd Stage Post Office', 'Monotype Corporation', 'Kaverinagar (Banashankari)', 'Yarabnagar', 'Banashankari', 'Sangam Circle', 'Jayanagar 5th Block', 'Aurobindo Circle (J P Nagar)', 'Marenahalli (Jayanagar 5th Block)', 'Ragigudda', 'Jayanagar 9th Block East End', 'Jayadeva Hospital', 'MICO Layout', 'BTM Layout Water Tank', 'BTM Layout 16th Main/Udupi Garden', 'Kuvempunagar (BTM Layout)', 'Central Silk Board', 'Rupena Agrahara', 'Bommanahalli', 'Garebhavipalya', 'Kudlu Gate', 'Singasandra', 'Hosa Road', 'PES School of Engineering (Hosur Road)', 'Konappana Agrahara', 'Electronic City', 'Veerasandra (Electronic City)', 'Huskur Gate (Hosur Road)', 'Hebbagodi', 'Bommasandra Industrial Area', 'Narayana Hrudayalaya']\n",
      "['Vijayanagar', 'Vijayanagar Maruti Mandir', 'Vijayanagar TTMC', 'Attiguppe', 'Deepanjalinagar', 'BHEL Gate (Mysore Road)', 'Nayandahalli', 'Veerabhadranagar', 'PES Institute of Technology', 'Hosakerehalli Petrol Bunk', 'Hosakerehalli Cross', 'Katriguppe Janata Bazaar', 'Katriguppe', 'Kamakhya Theater', 'Devegowda Petrol Bunk', 'Mini Zoo (KIMS Hospital)', 'Indira Nursing Home', 'Banashankari 2nd Stage Post Office', 'Monotype Corporation', 'Kaverinagar (Banashankari)', 'Yarabnagar', 'Banashankari', 'Sangam Circle', 'Jayanagar 5th Block', 'Aurobindo Circle (J P Nagar)', 'Marenahalli (Jayanagar 5th Block)', 'Ragigudda', 'Jayanagar 9th Block East End', 'Jayadeva Hospital', 'MICO Layout', 'BTM Layout Water Tank', 'BTM Layout 16th Main/Udupi Garden', 'Kuvempunagar (BTM Layout)', 'Central Silk Board', 'Rupena Agrahara', 'Bommanahalli', 'Garebhavipalya', 'Kudlu Gate', 'Singasandra', 'Hosa Road', 'PES School of Engineering (Hosur Road)', 'Konappana Agrahara', 'Electronic City', 'Electronic City Phase-2']\n",
      "['Nagarabhavi BDA Complex', 'Nagarabhavi Alada Mara (Outer Ring Road)', 'Papareddypalya', 'Dr Ambedkar Institute of Technology', 'NGEF Layout (Nagarabhavi)', 'Vinayaka Layout (Nagarabhavi)', 'Nagarabhavi Circle', 'Jyothi Nagar (Nagarabhavi)', 'Chandra Layout', 'Chandra Layout Ganesha Temple', 'Chandra Public School (Chandra Layout)', 'Attiguppe', 'Deepanjalinagar', 'BHEL Gate (Mysore Road)', 'Nayandahalli', 'Veerabhadranagar', 'PES Institute of Technology', 'Hosakerehalli Petrol Bunk', 'Hosakerehalli Cross', 'Katriguppe Janata Bazaar', 'Katriguppe', 'Kamakhya Theater', 'Devegowda Petrol Bunk', 'Kadirenahalli Park', 'Kadirenahalli Cross', 'Yarabnagar', 'Banashankari', 'Sangam Circle', 'Jayanagar 5th Block', 'Aurobindo Circle (J P Nagar)', 'Marenahalli (Jayanagar 5th Block)', 'Ragigudda', 'Jayanagar 9th Block East End', 'Jayadeva Hospital', 'MICO Layout', 'BTM Layout Water Tank', 'BTM Layout 16th Main/Udupi Garden', 'Kuvempunagar (BTM Layout)', 'Central Silk Board', 'Rupena Agrahara', 'Bommanahalli', 'Garebhavipalya', 'Kudlu Gate', 'Singasandra', 'Hosa Road', 'PES School of Engineering (Hosur Road)', 'Konappana Agrahara', 'Electronic City']\n",
      "['Global Village (Mysore Road)', 'R V College of Engineering', 'Indian Statistical Institute', 'Bangalore University Gate', 'Rajarajeshwarinagar Gate', 'Vrishabhavathi Valley BWSSB Quarters', 'Nayandahalli', 'Veerabhadranagar', 'PES Institute of Technology', 'Hosakerehalli Petrol Bunk', 'Hosakerehalli Cross', 'Katriguppe Janata Bazaar', 'Katriguppe', 'Kamakhya Theater', 'Devegowda Petrol Bunk', 'Mini Zoo (KIMS Hospital)', 'Indira Nursing Home', 'Banashankari 2nd Stage Post Office', 'Monotype Corporation', 'Kaverinagar (Banashankari)', 'Yarabnagar', 'Banashankari', 'Sangam Circle', 'Jayanagar 5th Block', 'Aurobindo Circle (J P Nagar)', 'Marenahalli (Jayanagar 5th Block)', 'Ragigudda', 'Jayanagar 9th Block East End', 'Jayadeva Hospital', 'MICO Layout', 'BTM Layout Water Tank', 'BTM Layout 16th Main/Udupi Garden', 'Kuvempunagar (BTM Layout)', 'Central Silk Board', 'Rupena Agrahara', 'Bommanahalli', 'Garebhavipalya', 'Kudlu Gate', 'Singasandra', 'Hosa Road', 'PES School of Engineering (Hosur Road)', 'Konappana Agrahara', 'Electronic City', 'Electronic City Infosys Gate', 'Electronic City BHEL/Siemens', 'Electronic City Wipro Gate']\n",
      "['Chikkalasandra', 'Chikkalasandra Arali Mara', 'Gowdanapalya', 'Gowdanapalya Prarthana School', 'Padmanabhanagar', 'Devegowda Petrol Bunk', 'Mini Zoo (KIMS Hospital)', 'Indira Nursing Home', 'Banashankari BDA Complex', 'Monotype Corporation', 'Hunase Mara (Banashankari)', 'Banashankari', 'Sangam Circle', 'Jayanagar 5th Block', 'Aurobindo Circle (J P Nagar)', 'Marenahalli (Jayanagar 5th Block)', 'Ragigudda', 'Jayanagar 9th Block East End', 'Jayadeva Hospital', 'MICO Layout', 'BTM Layout Water Tank', 'BTM Layout 16th Main/Udupi Garden', 'Kuvempunagar (BTM Layout)', 'Central Silk Board', 'Rupena Agrahara', 'Bommanahalli', 'Garebhavipalya', 'Kudlu Gate', 'Singasandra', 'Hosa Road', 'PES School of Engineering (Hosur Road)', 'Konappana Agrahara', 'Electronic City', 'Electronic City Infosys Gate', 'Electronic City BHEL/Siemens', 'Electronic City Wipro Gate']\n",
      "['Banashankari', 'Sangam Circle', 'Jayanagar 5th Block', 'Aurobindo Circle (J P Nagar)', 'Jayanagar Telephone Exchange', 'Jayanagar 4th Block', 'Jayanagar 4th Block Church', 'Sanjay Gandhi Hospital (Old)', 'Carmel Convent', 'Jayanagar Pump House', 'Jayanagar 9th Block East End', 'Jayadeva Hospital', 'MICO Layout', 'BTM Layout Water Tank', 'BTM Layout 16th Main/Udupi Garden', 'Kuvempunagar (BTM Layout)', 'Central Silk Board', 'Rupena Agrahara', 'Bommanahalli', 'Garebhavipalya', 'Kudlu Gate', 'Singasandra', 'Hosa Road', 'PES School of Engineering (Hosur Road)', 'Konappana Agrahara', 'Electronic City', 'Electronic City Infosys Gate', 'Electronic City BHEL/Siemens', 'Electronic City Wipro Gate']\n",
      "['Banashankari', 'Sangam Circle', 'Jayanagar 5th Block', 'Aurobindo Circle (J P Nagar)', 'Marenahalli (Jayanagar 5th Block)', 'Ragigudda', 'Jayanagar 9th Block East End', 'Jayadeva Hospital', 'MICO Layout', 'BTM Layout Water Tank', 'BTM Layout 16th Main/Udupi Garden', 'Kuvempunagar (BTM Layout)', 'Central Silk Board', 'Rupena Agrahara', 'Bommanahalli', 'Garebhavipalya (BETL Flyover)', 'Kudlu Gate (BETL Flyover)', 'Singasandra (BETL Flyover)', 'Hosa Road (BETL Flyover)', 'PES School of Engineering (Hosur Road) (BETL Flyover)', 'Konappana Agrahara (BETL Flyover)', 'Electronic City', 'Electronic City Phase-2']\n"
     ]
    }
   ],
   "source": [
    "for item in required_bus_info:\n",
    "    print(item.stops)"
   ]
  },
  {
   "cell_type": "code",
   "execution_count": 118,
   "metadata": {
    "collapsed": false
   },
   "outputs": [
    {
     "data": {
      "text/plain": [
       "[<td>346CA</td>,\n",
       " <td>Banashankari</td>,\n",
       " <td>Huskur (Hosur Road)</td>,\n",
       " <td>Banashankari, Sangam Circle, Jayanagar 5th Block, Aurobindo Circle (J P Nagar), Marenahalli (Jayanagar 5th Block), Ragigudda, Jayanagar 9th Block East End, <strong>Jayadeva Hospital</strong>, MICO Layout, BTM Layout Water Tank, BTM Layout 16th Main/Udupi Garden, Kuvempunagar (BTM Layout), Central Silk Board, Rupena Agrahara, Bommanahalli, Garebhavipalya, Kudlu Gate, Singasandra, Hosa Road, PES School of Engineering (Hosur Road), Konappana Agrahara, <strong>Electronic City</strong>, Veerasandra (Electronic City), Huskur Gate (Hosur Road), Huskur APMC Fruit Market (Hosur Road)/Singena Agrahara Cross, Huskur (Hosur Road)</td>,\n",
       " <td>RARE</td>]"
      ]
     },
     "execution_count": 118,
     "metadata": {},
     "output_type": "execute_result"
    }
   ],
   "source": [
    "tr[1].find_all('td')"
   ]
  },
  {
   "cell_type": "code",
   "execution_count": 72,
   "metadata": {
    "collapsed": true
   },
   "outputs": [],
   "source": [
    "url = \"https://narasimhadatta.info/bmtc_query.html\""
   ]
  },
  {
   "cell_type": "code",
   "execution_count": 73,
   "metadata": {
    "collapsed": true
   },
   "outputs": [],
   "source": [
    "json = urlopen(url).read().decode()"
   ]
  },
  {
   "cell_type": "code",
   "execution_count": 75,
   "metadata": {
    "collapsed": false
   },
   "outputs": [],
   "source": [
    "soup = BeautifulSoup(json, 'html.parser')"
   ]
  },
  {
   "cell_type": "code",
   "execution_count": 81,
   "metadata": {
    "collapsed": false
   },
   "outputs": [],
   "source": [
    "all_stops = []\n",
    "for item in soup.find_all('option'):\n",
    "    all_stops.append(item.get_text().strip())"
   ]
  },
  {
   "cell_type": "code",
   "execution_count": 82,
   "metadata": {
    "collapsed": false
   },
   "outputs": [
    {
     "data": {
      "text/plain": [
       "''"
      ]
     },
     "execution_count": 82,
     "metadata": {},
     "output_type": "execute_result"
    }
   ],
   "source": [
    "all_stops[0]"
   ]
  },
  {
   "cell_type": "code",
   "execution_count": 99,
   "metadata": {
    "collapsed": false
   },
   "outputs": [
    {
     "name": "stdout",
     "output_type": "stream",
     "text": [
      "341H Koramangala Water Tank\n",
      "399B John Fowler/Krupanidhi College\n"
     ]
    }
   ],
   "source": [
    "for key, value in required_bus_info.items():\n",
    "    print(key, value[random.randint(0, value.index(start_from))])"
   ]
  },
  {
   "cell_type": "code",
   "execution_count": null,
   "metadata": {
    "collapsed": true
   },
   "outputs": [],
   "source": [
    "def generate_bus_numbers(count: int):\n",
    "    bus_numbers = []\n",
    "    \n",
    "    for item in range(count):\n",
    "        a = \"KA 01 {}{}{}\".format(random.randint(0, 26))"
   ]
  },
  {
   "cell_type": "code",
   "execution_count": null,
   "metadata": {
    "collapsed": true
   },
   "outputs": [],
   "source": []
  }
 ],
 "metadata": {
  "kernelspec": {
   "display_name": "Python 3",
   "language": "python",
   "name": "python3"
  },
  "language_info": {
   "codemirror_mode": {
    "name": "ipython",
    "version": 3
   },
   "file_extension": ".py",
   "mimetype": "text/x-python",
   "name": "python",
   "nbconvert_exporter": "python",
   "pygments_lexer": "ipython3",
   "version": "3.4.3"
  }
 },
 "nbformat": 4,
 "nbformat_minor": 0
}
